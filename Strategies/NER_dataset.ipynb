{
 "cells": [
  {
   "cell_type": "markdown",
   "metadata": {},
   "source": [
    "# split messages into words"
   ]
  },
  {
   "cell_type": "code",
   "execution_count": null,
   "metadata": {},
   "outputs": [],
   "source": [
    "import pandas as pd"
   ]
  },
  {
   "cell_type": "code",
   "execution_count": null,
   "metadata": {},
   "outputs": [],
   "source": [
    "df = pd.read_csv('messages_labels.csv')"
   ]
  },
  {
   "cell_type": "code",
   "execution_count": null,
   "metadata": {},
   "outputs": [],
   "source": [
    "u = df.encoded_message.str.split(expand=True).stack()"
   ]
  },
  {
   "cell_type": "code",
   "execution_count": null,
   "metadata": {},
   "outputs": [],
   "source": [
    "ner_df =  pd.DataFrame({\n",
    "        'Sentence': u.index.get_level_values(0) + 1, \n",
    "        'Word': u.values, \n",
    "        'Entity': u.map(dict(zip(df.convo_stage, df.encoded_message))).fillna('Object').values\n",
    "    })"
   ]
  },
  {
   "cell_type": "code",
   "execution_count": null,
   "metadata": {},
   "outputs": [],
   "source": [
    "new_df = df[['encoded_message', 'convo_stage']]"
   ]
  },
  {
   "cell_type": "code",
   "execution_count": null,
   "metadata": {},
   "outputs": [],
   "source": [
    "import numpy as np\n",
    "label_df = pd.concat([pd.Series(row['convo_stage'], row['encoded_message'].split())              \n",
    "                    for _, row in new_df.iterrows()]).reset_index()"
   ]
  },
  {
   "cell_type": "code",
   "execution_count": null,
   "metadata": {},
   "outputs": [],
   "source": [
    "ner_df['Entity'] = label_df[0]"
   ]
  },
  {
   "cell_type": "code",
   "execution_count": null,
   "metadata": {},
   "outputs": [],
   "source": [
    "ner_df.to_csv('NER_df.csv')"
   ]
  },
  {
   "cell_type": "markdown",
   "metadata": {},
   "source": [
    "## Further preprocessing"
   ]
  },
  {
   "cell_type": "code",
   "execution_count": null,
   "metadata": {},
   "outputs": [],
   "source": [
    "import pandas as pd\n",
    "df = pd.read_csv('NER_df.csv', index_col=0)"
   ]
  },
  {
   "cell_type": "code",
   "execution_count": null,
   "metadata": {},
   "outputs": [],
   "source": [
    "df.columns = [\"sentence_id\", \"words\", \"labels\"]"
   ]
  },
  {
   "cell_type": "code",
   "execution_count": null,
   "metadata": {},
   "outputs": [],
   "source": [
    "df.loc[df.words == 'is', 'labels'] = \"O\"\n",
    "df.loc[df.words == 'are', 'labels'] = \"O\"\n",
    "df.loc[df.words == 'am', 'labels'] = \"O\"\n",
    "df.loc[df.words == 'a', 'labels'] = \"O\"\n",
    "df.loc[df.words == 'the', 'labels'] = \"O\"\n",
    "df.loc[df.words == 'it', 'labels'] = \"O\"\n",
    "df.loc[df.words == 'was', 'labels'] = \"O\"\n",
    "df.loc[df.words == 'were', 'labels'] = \"O\"\n",
    "df.loc[df.words == 'at', 'labels'] = \"O\"\n",
    "df.loc[(df.words == 'on') | (df.words == 'in'), 'labels'] = \"O\""
   ]
  },
  {
   "cell_type": "code",
   "execution_count": null,
   "metadata": {},
   "outputs": [],
   "source": [
    "df['labels'] = df['labels'].astype(str)"
   ]
  },
  {
   "cell_type": "code",
   "execution_count": null,
   "metadata": {},
   "outputs": [],
   "source": [
    "df.labels = df.labels.str.replace(\"0\",\"start\")\n",
    "df.labels = df.labels.str.replace(\"1\",\"buil-rapport\")\n",
    "df.labels = df.labels.str.replace(\"2\",\"explore\")\n",
    "df.labels = df.labels.str.replace(\"3\",\"identify-goal\")\n",
    "df.labels = df.labels.str.replace(\"4\",\"problem-solve\")\n",
    "df.labels = df.labels.str.replace(\"5\",\"end\")"
   ]
  },
  {
   "cell_type": "code",
   "execution_count": null,
   "metadata": {},
   "outputs": [],
   "source": [
    "df.to_csv('NER_df.csv')"
   ]
  }
 ],
 "metadata": {
  "kernelspec": {
   "display_name": "Python 3",
   "language": "python",
   "name": "python3"
  },
  "language_info": {
   "codemirror_mode": {
    "name": "ipython",
    "version": 3
   },
   "file_extension": ".py",
   "mimetype": "text/x-python",
   "name": "python",
   "nbconvert_exporter": "python",
   "pygments_lexer": "ipython3",
   "version": "3.7.9"
  }
 },
 "nbformat": 4,
 "nbformat_minor": 4
}
