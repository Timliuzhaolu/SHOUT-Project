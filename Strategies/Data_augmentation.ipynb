{
 "cells": [
  {
   "cell_type": "code",
   "execution_count": null,
   "id": "removed-given",
   "metadata": {},
   "outputs": [],
   "source": [
    "import nlpaug.augmenter.char as nac\n",
    "import nlpaug.augmenter.word as naw\n",
    "import nlpaug.augmenter.sentence as nas\n",
    "import nlpaug.flow as nafc\n",
    "import pandas as pd\n",
    "import numpy as np\n",
    "from nlpaug.util import Action\n",
    "\n",
    "\n",
    "import simpletransformers\n",
    "from simpletransformers.classification import ClassificationModel, ClassificationArgs\n",
    "import pandas as pd\n",
    "import logging\n",
    "import wandb\n",
    "from sklearn.metrics import accuracy_score"
   ]
  },
  {
   "cell_type": "code",
   "execution_count": null,
   "id": "colored-fashion",
   "metadata": {},
   "outputs": [],
   "source": [
    "df = pd.read_csv('messages_labels_1000_1234.csv')"
   ]
  },
  {
   "cell_type": "code",
   "execution_count": null,
   "id": "phantom-commerce",
   "metadata": {},
   "outputs": [],
   "source": [
    "from sklearn.utils import shuffle\n",
    "from tqdm import tqdm\n",
    "def augment_text(df, samples = 300, pr = 0.2, class_name = 1, mode = 'syn'):\n",
    "    syn_aug = naw.SynonymAug(aug_src = 'wordnet', stopwords = stop_words)\n",
    "    syn_aug.aug_p=pr\n",
    "    \n",
    "    del_aug = naw.RandomWordAug(stopwords = '[scrubbed]')\n",
    "\n",
    "    swap_aug = naw.RandomWordAug(action=\"swap\")\n",
    "    \n",
    "    new_text=[]\n",
    "    interaction = []\n",
    "    conv_ids = []\n",
    "    mess_ids = []\n",
    "    ##dropping samples from validation\n",
    "    df_n=df[df.convo_stage == class_name].reset_index(drop=True)\n",
    "    ## data augmentation loop\n",
    "    for i in tqdm(np.random.randint(0,len(df_n),samples)):\n",
    "        text = df_n.iloc[i]['message']\n",
    "        person = df_n.iloc[i]['interaction']\n",
    "        conv_id = df_n.iloc[i]['conversation_id']\n",
    "        mess_id = df_n.iloc[i]['message_id']\n",
    "        if mode == 'syn':           \n",
    "            augmented_text = syn_aug.augment(text)\n",
    "            \n",
    "        elif mode == 'del':           \n",
    "            augmented_text = del_aug.augment(text)\n",
    "        \n",
    "        elif mode == 'swap':\n",
    "            augmented_text = swap_aug.augment(text)\n",
    "            \n",
    "        new_text.append(augmented_text)\n",
    "        interaction.append(person)\n",
    "        conv_ids.append(conv_id)\n",
    "        mess_ids.append(mess_id)\n",
    "        \n",
    "        \n",
    "    ## dataframe\n",
    "    new=pd.DataFrame({'message':new_text, 'convo_stage': class_name, 'interaction': interaction, \n",
    "                      'conversation_id':conv_ids, 'message_id':mess_ids})\n",
    "    new['encoded_message'] = \"[\" + new.interaction + \"]\" + ' ' + new.message\n",
    "    return new"
   ]
  },
  {
   "cell_type": "code",
   "execution_count": null,
   "id": "large-consideration",
   "metadata": {},
   "outputs": [],
   "source": [
    "class_1_aug_syn = augment_text(df, samples = 200, class_name = 1, mode = 'syn')\n",
    "class_1_aug_del = augment_text(df, samples = 40, class_name = 1, mode = 'del')\n",
    "class_1_aug_swap = augment_text(df, samples = 40, class_name = 1, mode = 'swap')\n",
    "class_1_aug = pd.concat([class_1_aug_del, class_1_aug_syn, class_1_aug_swap], ignore_index=True)"
   ]
  },
  {
   "cell_type": "code",
   "execution_count": null,
   "id": "logical-conspiracy",
   "metadata": {},
   "outputs": [],
   "source": [
    "class_2_aug_syn = augment_text(df, samples = 600, class_name = 2, mode = 'syn')\n",
    "class_2_aug_del = augment_text(df, samples = 120, class_name = 2, mode = 'del')\n",
    "class_2_aug_swap = augment_text(df, samples = 120, class_name = 2, mode = 'swap')\n",
    "class_2_aug = pd.concat([class_2_aug_del, class_2_aug_syn, class_2_aug_swap], ignore_index=True)"
   ]
  },
  {
   "cell_type": "code",
   "execution_count": null,
   "id": "instructional-connecticut",
   "metadata": {},
   "outputs": [],
   "source": [
    "class_3_aug_syn = augment_text(df, samples = 600, class_name = 3, mode = 'syn')\n",
    "class_3_aug_del = augment_text(df, samples = 120, class_name = 3, mode = 'del')\n",
    "class_3_aug_swap = augment_text(df, samples = 120, class_name = 3, mode = 'swap')\n",
    "class_3_aug = pd.concat([class_3_aug_del, class_3_aug_syn, class_3_aug_swap], ignore_index=True)"
   ]
  },
  {
   "cell_type": "code",
   "execution_count": null,
   "id": "surprising-space",
   "metadata": {},
   "outputs": [],
   "source": [
    "class_4_aug_syn = augment_text(df, samples = 900, class_name = 4, mode = 'syn')\n",
    "class_4_aug_del = augment_text(df, samples = 180, class_name = 4, mode = 'del')\n",
    "class_4_aug_swap = augment_text(df, samples = 180, class_name = 4, mode = 'swap')\n",
    "class_4_aug = pd.concat([class_4_aug_del, class_4_aug_syn, class_4_aug_swap], ignore_index=True)"
   ]
  },
  {
   "cell_type": "code",
   "execution_count": null,
   "id": "accessory-overall",
   "metadata": {},
   "outputs": [],
   "source": [
    "class_5_aug_syn = augment_text(df, samples = 200, class_name = 5, mode = 'syn')\n",
    "class_5_aug_del = augment_text(df, samples = 40, class_name = 5, mode = 'del')\n",
    "class_5_aug_swap = augment_text(df, samples = 40, class_name = 5, mode = 'swap')\n",
    "class_5_aug = pd.concat([class_5_aug_del, class_5_aug_syn, class_5_aug_swap], ignore_index=True)"
   ]
  },
  {
   "cell_type": "code",
   "execution_count": null,
   "id": "desperate-steam",
   "metadata": {},
   "outputs": [],
   "source": [
    "aug_df = pd.concat([class_5_aug, class_4_aug, class_3_aug, class_2_aug,class_1_aug], ignore_index=True)"
   ]
  },
  {
   "cell_type": "code",
   "execution_count": null,
   "id": "crude-member",
   "metadata": {},
   "outputs": [],
   "source": [
    "aug_df.to_csv('aug_df.csv')"
   ]
  }
 ],
 "metadata": {
  "kernelspec": {
   "display_name": "Python 3",
   "language": "python",
   "name": "python3"
  },
  "language_info": {
   "codemirror_mode": {
    "name": "ipython",
    "version": 3
   },
   "file_extension": ".py",
   "mimetype": "text/x-python",
   "name": "python",
   "nbconvert_exporter": "python",
   "pygments_lexer": "ipython3",
   "version": "3.7.9"
  }
 },
 "nbformat": 4,
 "nbformat_minor": 5
}
