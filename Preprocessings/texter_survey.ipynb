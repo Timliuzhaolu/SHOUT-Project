{
 "cells": [
  {
   "cell_type": "code",
   "execution_count": null,
   "metadata": {},
   "outputs": [],
   "source": [
    "import pandas as pd\n",
    "import numpy as np\n",
    "from posterior import get_posterior_confidence_interval\n",
    "\n",
    "import simpletransformers\n",
    "from simpletransformers.classification import ClassificationModel, ClassificationArgs\n",
    "import pandas as pd\n",
    "import logging\n",
    "import wandb\n",
    "from sklearn.metrics import accuracy_score"
   ]
  },
  {
   "cell_type": "code",
   "execution_count": null,
   "metadata": {},
   "outputs": [],
   "source": [
    "labels = pd.read_pickle('texter_survey_collated.pickle')\n",
    "conversations = pd.read_csv('document_level_labels/new_encoded_messages.csv')\n",
    "conversations = conversations.loc[:, ~conversations.columns.str.contains('^Unnamed')]"
   ]
  },
  {
   "cell_type": "markdown",
   "metadata": {},
   "source": [
    "# 205 (autism)"
   ]
  },
  {
   "cell_type": "markdown",
   "metadata": {},
   "source": [
    "model not applicable if p_train is vastly different from pred_mean"
   ]
  },
  {
   "cell_type": "code",
   "execution_count": null,
   "metadata": {},
   "outputs": [],
   "source": [
    "autism_id205 = labels.dropna(subset=['205', 'status'])"
   ]
  },
  {
   "cell_type": "code",
   "execution_count": null,
   "metadata": {},
   "outputs": [],
   "source": [
    "autism_id205['205'].value_counts()[:30]"
   ]
  },
  {
   "cell_type": "code",
   "execution_count": null,
   "metadata": {},
   "outputs": [],
   "source": [
    "autism_id205 = autism_id205[['conversation_id', '205']]"
   ]
  },
  {
   "cell_type": "code",
   "execution_count": null,
   "metadata": {},
   "outputs": [],
   "source": [
    "autism_id205 = pd.merge(autism_id205, conversations, on = 'conversation_id', how='outer')"
   ]
  },
  {
   "cell_type": "code",
   "execution_count": null,
   "metadata": {},
   "outputs": [],
   "source": [
    "autism_predict = autism_id205[autism_id205['205'].isnull()]"
   ]
  },
  {
   "cell_type": "code",
   "execution_count": null,
   "metadata": {},
   "outputs": [],
   "source": [
    "autism_predict.to_csv(\"document_level_labels/autism_predict.csv\")"
   ]
  },
  {
   "cell_type": "code",
   "execution_count": null,
   "metadata": {},
   "outputs": [],
   "source": [
    "autism_id205 = autism_id205.dropna()"
   ]
  },
  {
   "cell_type": "code",
   "execution_count": null,
   "metadata": {},
   "outputs": [],
   "source": [
    "autism_id205['205'] = autism_id205['205'].str[0]"
   ]
  },
  {
   "cell_type": "markdown",
   "metadata": {},
   "source": [
    "## participation bias"
   ]
  },
  {
   "cell_type": "code",
   "execution_count": null,
   "metadata": {},
   "outputs": [],
   "source": [
    "autism_id205.loc[(autism_id205['205'] != 'Autism'),'205'] = 0\n",
    "autism_id205.loc[(autism_id205['205'] == 'Autism'),'205'] = 1"
   ]
  },
  {
   "cell_type": "code",
   "execution_count": null,
   "metadata": {},
   "outputs": [],
   "source": [
    "autism_id205['205'].value_counts()"
   ]
  },
  {
   "cell_type": "code",
   "execution_count": null,
   "metadata": {},
   "outputs": [],
   "source": [
    "autism_id205.to_csv(\"document_level_labels/autism_id205.csv\")"
   ]
  },
  {
   "cell_type": "code",
   "execution_count": null,
   "metadata": {},
   "outputs": [],
   "source": [
    "ci_95 = get_posterior_confidence_interval(0.411, 0.0618, 0.01278, 205000, confidence=0.95, integral_max_n=1000)\n",
    "ci_99 = get_posterior_confidence_interval(0.411, 0.0618, 0.01278, 205000, confidence=0.99, integral_max_n=1000)\n",
    "print(ci_95, ci_99)"
   ]
  },
  {
   "cell_type": "markdown",
   "metadata": {},
   "source": [
    "# 69 (13 or under)"
   ]
  },
  {
   "cell_type": "code",
   "execution_count": null,
   "metadata": {},
   "outputs": [],
   "source": [
    "age_13_id69 = labels.dropna(subset=['69', 'status'])"
   ]
  },
  {
   "cell_type": "code",
   "execution_count": null,
   "metadata": {},
   "outputs": [],
   "source": [
    "age_13_id69 = age_13_id69[['conversation_id', '69']]"
   ]
  },
  {
   "cell_type": "code",
   "execution_count": null,
   "metadata": {},
   "outputs": [],
   "source": [
    "age_13_id69['69'].value_counts()"
   ]
  },
  {
   "cell_type": "code",
   "execution_count": null,
   "metadata": {},
   "outputs": [],
   "source": [
    "age_13_id69 = pd.merge(age_13_id69, conversations, on = 'conversation_id', how='outer')"
   ]
  },
  {
   "cell_type": "code",
   "execution_count": null,
   "metadata": {},
   "outputs": [],
   "source": [
    "age_13_predict = age_13_id69[age_13_id69['69'].isnull()]"
   ]
  },
  {
   "cell_type": "code",
   "execution_count": null,
   "metadata": {},
   "outputs": [],
   "source": [
    "age_13_predict.to_csv(\"document_level_labels/age_13_predict.csv\")"
   ]
  },
  {
   "cell_type": "code",
   "execution_count": null,
   "metadata": {},
   "outputs": [],
   "source": [
    "age_13_id69 = age_13_id69.dropna()"
   ]
  },
  {
   "cell_type": "code",
   "execution_count": null,
   "metadata": {},
   "outputs": [],
   "source": [
    "age_13_id69.loc[(age_13_id69['69'] != '13 or younger'),'69'] = 0\n",
    "age_13_id69.loc[(age_13_id69['69'] == '13 or younger'),'69'] = 1"
   ]
  },
  {
   "cell_type": "code",
   "execution_count": null,
   "metadata": {},
   "outputs": [],
   "source": [
    "age_13_id69['69'].value_counts()"
   ]
  },
  {
   "cell_type": "code",
   "execution_count": null,
   "metadata": {},
   "outputs": [],
   "source": [
    "age_13_id69.to_csv('document_level_labels/age_13_id69.csv')"
   ]
  },
  {
   "cell_type": "markdown",
   "metadata": {},
   "source": [
    "## participation bias"
   ]
  },
  {
   "cell_type": "code",
   "execution_count": null,
   "metadata": {},
   "outputs": [],
   "source": [
    "ci_95 = get_posterior_confidence_interval(0.66, 0.0663, 0.0435, 205000, confidence=0.95, integral_max_n=1000)\n",
    "ci_99 = get_posterior_confidence_interval(0.66, 0.0663, 0.0435, 205000, confidence=0.99, integral_max_n=1000)\n",
    "print(ci_95, ci_99)"
   ]
  },
  {
   "cell_type": "markdown",
   "metadata": {},
   "source": [
    "# 73 (Non-binary)"
   ]
  },
  {
   "cell_type": "code",
   "execution_count": null,
   "metadata": {},
   "outputs": [],
   "source": [
    "lgbt_id73 = labels.dropna(subset=['73', 'status'])"
   ]
  },
  {
   "cell_type": "code",
   "execution_count": null,
   "metadata": {},
   "outputs": [],
   "source": [
    "lgbt_id73 = lgbt_id73[['conversation_id', '73']]"
   ]
  },
  {
   "cell_type": "code",
   "execution_count": null,
   "metadata": {},
   "outputs": [],
   "source": [
    "lgbt_id73 = pd.merge(lgbt_id73, conversations, on = 'conversation_id', how='outer')"
   ]
  },
  {
   "cell_type": "code",
   "execution_count": null,
   "metadata": {},
   "outputs": [],
   "source": [
    "lgbt_id73.head()"
   ]
  },
  {
   "cell_type": "code",
   "execution_count": null,
   "metadata": {},
   "outputs": [],
   "source": [
    "lgbt_predict = lgbt_id73[lgbt_id73['73'].isnull()]"
   ]
  },
  {
   "cell_type": "code",
   "execution_count": null,
   "metadata": {},
   "outputs": [],
   "source": [
    "lgbt_predict.shape"
   ]
  },
  {
   "cell_type": "code",
   "execution_count": null,
   "metadata": {},
   "outputs": [],
   "source": [
    "lgbt_predict.to_csv(\"document_level_labels/lgbt_predict.csv\")"
   ]
  },
  {
   "cell_type": "code",
   "execution_count": null,
   "metadata": {},
   "outputs": [],
   "source": [
    "lgbt_id73 = lgbt_id73.dropna()"
   ]
  },
  {
   "cell_type": "code",
   "execution_count": null,
   "metadata": {},
   "outputs": [],
   "source": [
    "lgbt_id73['73'] = lgbt_id73['73'].str[0]"
   ]
  },
  {
   "cell_type": "code",
   "execution_count": null,
   "metadata": {},
   "outputs": [],
   "source": [
    "lgbt_id73['73'].value_counts()"
   ]
  },
  {
   "cell_type": "code",
   "execution_count": null,
   "metadata": {},
   "outputs": [],
   "source": [
    "lgbt_id73.loc[(lgbt_id73['73'] == 'Female'),'73'] = 0\n",
    "lgbt_id73.loc[(lgbt_id73['73'] == 'Male'),'73'] = 0\n",
    "lgbt_id73.loc[(lgbt_id73['73'] == 'Prefer not to answer'),'73'] = 0\n",
    "lgbt_id73.loc[(lgbt_id73['73'] != 0),'73'] = 1"
   ]
  },
  {
   "cell_type": "code",
   "execution_count": null,
   "metadata": {},
   "outputs": [],
   "source": [
    "lgbt_id73['73'].value_counts()"
   ]
  },
  {
   "cell_type": "code",
   "execution_count": null,
   "metadata": {},
   "outputs": [],
   "source": [
    "lgbt_id73.to_csv(\"document_level_labels/lgbt_id73.csv\")"
   ]
  },
  {
   "cell_type": "markdown",
   "metadata": {},
   "source": [
    "## participation bias"
   ]
  },
  {
   "cell_type": "code",
   "execution_count": null,
   "metadata": {},
   "outputs": [],
   "source": [
    "ci_95 = get_posterior_confidence_interval(0.349, 0.0494, 0.0160, 205000, confidence=0.95, integral_max_n=1000)\n",
    "ci_99 = get_posterior_confidence_interval(0.349, 0.0494, 0.0160, 205000, confidence=0.99, integral_max_n=1000)\n",
    "print(ci_95, ci_99)"
   ]
  },
  {
   "cell_type": "code",
   "execution_count": null,
   "metadata": {},
   "outputs": [],
   "source": []
  },
  {
   "cell_type": "code",
   "execution_count": null,
   "metadata": {},
   "outputs": [],
   "source": []
  },
  {
   "cell_type": "markdown",
   "metadata": {},
   "source": [
    "# Demographic distributions diagram"
   ]
  },
  {
   "cell_type": "code",
   "execution_count": null,
   "metadata": {},
   "outputs": [],
   "source": [
    "age = labels.dropna(subset=['status'])"
   ]
  },
  {
   "cell_type": "code",
   "execution_count": null,
   "metadata": {},
   "outputs": [],
   "source": [
    "age = age[['69', '70', '71', '72']]"
   ]
  },
  {
   "cell_type": "code",
   "execution_count": null,
   "metadata": {},
   "outputs": [],
   "source": [
    "age['all_subcategories'] = age['72'].fillna(age['71'])\n",
    "age['all_subcategories'] = age['all_subcategories'].fillna(age['70'])\n",
    "age['all_subcategories'] = age['all_subcategories'].fillna(age['69'])"
   ]
  },
  {
   "cell_type": "code",
   "execution_count": null,
   "metadata": {},
   "outputs": [],
   "source": [
    "a = age['all_subcategories'].value_counts()"
   ]
  },
  {
   "cell_type": "code",
   "execution_count": null,
   "metadata": {},
   "outputs": [],
   "source": [
    "a.plot.pie(y = 'all_subcategories', figsize=(10, 10),  title=\"Age distribution\", legend=False, \\\n",
    "                   autopct='%1.1f%%',startangle=0)"
   ]
  },
  {
   "cell_type": "code",
   "execution_count": null,
   "metadata": {},
   "outputs": [],
   "source": [
    "disable = labels.dropna(subset=['status'])\n",
    "disable = disable[['205']]"
   ]
  },
  {
   "cell_type": "code",
   "execution_count": null,
   "metadata": {},
   "outputs": [],
   "source": [
    "disable = disable.dropna()"
   ]
  },
  {
   "cell_type": "code",
   "execution_count": null,
   "metadata": {},
   "outputs": [],
   "source": [
    "disable['205'] = disable['205'].str[0]"
   ]
  },
  {
   "cell_type": "code",
   "execution_count": null,
   "metadata": {},
   "outputs": [],
   "source": [
    "print(disable['205'].value_counts()[:20])"
   ]
  },
  {
   "cell_type": "code",
   "execution_count": null,
   "metadata": {},
   "outputs": [],
   "source": [
    "dict = {'No': 21283,\n",
    "        'Not sure': 2457,\n",
    "        'Autism': 1796,\n",
    "        'Dyslexia': 1356,\n",
    "        'Prefer not to answer': 932,\n",
    "        'Mobility difficulties': 894,\n",
    "        'ADD/ADHD': 668,\n",
    "        'Hard of Hearing': 392,\n",
    "        'Visually Impaired': 261,\n",
    "        'Deafness': 168,      \n",
    "        'Blindness': 32,\n",
    "        'Other': 939\n",
    "}"
   ]
  },
  {
   "cell_type": "code",
   "execution_count": null,
   "metadata": {},
   "outputs": [],
   "source": [
    "dict.keys()"
   ]
  },
  {
   "cell_type": "code",
   "execution_count": null,
   "metadata": {},
   "outputs": [],
   "source": [
    "dict1 = {'Disability':[21283, 2457, 1796, 1356, 932, 894, 668, 392, 261, 168, 32, 939],\n",
    "         'col2':['No', 'Not sure', 'Autism', 'Dyslexia', 'Prefer not to answer', 'Mobility difficulties', 'ADD/ADHD', 'Hard of Hearing', 'Visually Impaired', 'Deafness', 'Blindness', 'Other']\n",
    "    \n",
    "}"
   ]
  },
  {
   "cell_type": "code",
   "execution_count": null,
   "metadata": {},
   "outputs": [],
   "source": [
    "disable = pd.DataFrame.from_dict(dict1)"
   ]
  },
  {
   "cell_type": "code",
   "execution_count": null,
   "metadata": {
    "jupyter": {
     "outputs_hidden": true
    }
   },
   "outputs": [],
   "source": [
    "disable.set_index('col2', inplace=True)"
   ]
  },
  {
   "cell_type": "code",
   "execution_count": null,
   "metadata": {},
   "outputs": [],
   "source": [
    "plot = disable.plot.pie(y='Disability', ylabel ='', figsize=(5, 5), title=False, legend=False, \\\n",
    "                   autopct='%1.1f%%', explode=(0, 0.05, 0.06, 0.07, 0.081, 0.091, 0.1, 0.1, 0.1, 0.1, 0.1, 0.1), \\\n",
    "                   startangle=0)"
   ]
  },
  {
   "cell_type": "code",
   "execution_count": null,
   "metadata": {},
   "outputs": [],
   "source": [
    "plot.figure.savefig('disability.jpg', dpi=300)"
   ]
  },
  {
   "cell_type": "code",
   "execution_count": null,
   "metadata": {},
   "outputs": [],
   "source": []
  },
  {
   "cell_type": "code",
   "execution_count": null,
   "metadata": {},
   "outputs": [],
   "source": [
    "gender = labels.dropna(subset=['status'])"
   ]
  },
  {
   "cell_type": "code",
   "execution_count": null,
   "metadata": {},
   "outputs": [],
   "source": [
    "gender = gender[['73']]"
   ]
  },
  {
   "cell_type": "code",
   "execution_count": null,
   "metadata": {},
   "outputs": [],
   "source": [
    "gender['73'] = gender['73'].str[0]"
   ]
  },
  {
   "cell_type": "code",
   "execution_count": null,
   "metadata": {},
   "outputs": [],
   "source": [
    "gender = gender.dropna()"
   ]
  },
  {
   "cell_type": "code",
   "execution_count": null,
   "metadata": {},
   "outputs": [],
   "source": [
    "dict_gender = {'col1': ['Female', 'Male', 'Other'],\n",
    "               'col2': [24772, 4911, 1977]\n",
    "              }"
   ]
  },
  {
   "cell_type": "code",
   "execution_count": null,
   "metadata": {},
   "outputs": [],
   "source": [
    "gender = pd.DataFrame.from_dict(dict_gender)"
   ]
  },
  {
   "cell_type": "code",
   "execution_count": null,
   "metadata": {},
   "outputs": [],
   "source": [
    "gender.set_index('col1', inplace=True)"
   ]
  },
  {
   "cell_type": "code",
   "execution_count": null,
   "metadata": {},
   "outputs": [],
   "source": [
    "gender"
   ]
  },
  {
   "cell_type": "code",
   "execution_count": null,
   "metadata": {},
   "outputs": [],
   "source": [
    "plot = gender.plot.pie(y='col2', ylabel ='', figsize=(5, 5), title=False, legend=False, \\\n",
    "                   autopct='%1.1f%%', explode=(0, 0.05, 0.06), \\\n",
    "                   startangle=0)"
   ]
  },
  {
   "cell_type": "code",
   "execution_count": null,
   "metadata": {},
   "outputs": [],
   "source": [
    "plot.figure.savefig('gender.jpg', dpi=300)"
   ]
  },
  {
   "cell_type": "code",
   "execution_count": null,
   "metadata": {},
   "outputs": [],
   "source": []
  }
 ],
 "metadata": {
  "kernelspec": {
   "display_name": "Python 3",
   "language": "python",
   "name": "python3"
  },
  "language_info": {
   "codemirror_mode": {
    "name": "ipython",
    "version": 3
   },
   "file_extension": ".py",
   "mimetype": "text/x-python",
   "name": "python",
   "nbconvert_exporter": "python",
   "pygments_lexer": "ipython3",
   "version": "3.7.9"
  }
 },
 "nbformat": 4,
 "nbformat_minor": 4
}
