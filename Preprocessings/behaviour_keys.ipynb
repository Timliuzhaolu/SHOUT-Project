{
 "cells": [
  {
   "cell_type": "code",
   "execution_count": null,
   "metadata": {},
   "outputs": [],
   "source": [
    "import pandas as pd\n",
    "import numpy as np"
   ]
  },
  {
   "cell_type": "markdown",
   "metadata": {},
   "source": [
    "# behaviour keys preprocessing"
   ]
  },
  {
   "cell_type": "code",
   "execution_count": null,
   "metadata": {},
   "outputs": [],
   "source": [
    "df = pd.read_csv('context_messages_labels_1000_1234.csv')"
   ]
  },
  {
   "cell_type": "code",
   "execution_count": null,
   "metadata": {},
   "outputs": [],
   "source": [
    "df['first_behaviour'] = df['first_behaviour'].astype('int64')\n",
    "df['second_behaviour'] = df['second_behaviour'].astype('int64')\n",
    "df['third_behaviour'] = df['third_behaviour'].astype('int64')"
   ]
  },
  {
   "cell_type": "code",
   "execution_count": null,
   "metadata": {},
   "outputs": [],
   "source": [
    "df['third_behaviour'] = df['third_behaviour'].replace([9],6)"
   ]
  },
  {
   "cell_type": "code",
   "execution_count": null,
   "metadata": {},
   "outputs": [],
   "source": [
    "df['one_hot_encodes'] = df['first_behaviour']"
   ]
  },
  {
   "cell_type": "code",
   "execution_count": null,
   "metadata": {},
   "outputs": [],
   "source": [
    "df['vector'] = df[['first_behaviour', 'second_behaviour', 'third_behaviour']].values.tolist()"
   ]
  },
  {
   "cell_type": "code",
   "execution_count": null,
   "metadata": {},
   "outputs": [],
   "source": [
    "a = []\n",
    "for i in range(len(df.vector)):   \n",
    "    one_hot_encodes = np.array([0, 0, 0, 0, 0, 0])\n",
    "#     if 0 in df.vector[i]:\n",
    "#         pass\n",
    "    if 1 in df.vector[i]:\n",
    "        one_hot_encodes = one_hot_encodes + np.array([1, 0, 0, 0, 0, 0])\n",
    "    if 2 in df.vector[i]:\n",
    "        one_hot_encodes = one_hot_encodes + np.array([0, 1, 0, 0, 0, 0])\n",
    "    if 3 in df.vector[i]:\n",
    "        one_hot_encodes = one_hot_encodes + np.array([0, 0, 1, 0, 0, 0])\n",
    "    if 4 in df.vector[i]:\n",
    "        one_hot_encodes = one_hot_encodes + np.array([0, 0, 0, 1, 0, 0])   \n",
    "    if 5 in df.vector[i]:\n",
    "        one_hot_encodes = one_hot_encodes + np.array([0, 0, 0, 0, 1, 0])    \n",
    "    if 6 in df.vector[i]:\n",
    "        one_hot_encodes = one_hot_encodes + np.array([0, 0, 0, 0, 0, 1]) \n",
    "    a.append(list(one_hot_encodes))"
   ]
  },
  {
   "cell_type": "code",
   "execution_count": null,
   "metadata": {},
   "outputs": [],
   "source": [
    "a_df = pd.DataFrame(a, columns=['one', 'two', 'three', 'four', 'five', 'six'])"
   ]
  },
  {
   "cell_type": "code",
   "execution_count": null,
   "metadata": {},
   "outputs": [],
   "source": [
    "a_df['combined'] = a_df[['one', 'two', 'three', 'four', 'five', 'six']].values.tolist()"
   ]
  },
  {
   "cell_type": "code",
   "execution_count": null,
   "metadata": {},
   "outputs": [],
   "source": [
    "df['one_hot_encodes'] = a_df['combined']"
   ]
  },
  {
   "cell_type": "code",
   "execution_count": null,
   "metadata": {},
   "outputs": [],
   "source": [
    "df.to_csv('context_messages_labels_1000_1234.csv')"
   ]
  }
 ],
 "metadata": {
  "kernelspec": {
   "display_name": "Python 3",
   "language": "python",
   "name": "python3"
  },
  "language_info": {
   "codemirror_mode": {
    "name": "ipython",
    "version": 3
   },
   "file_extension": ".py",
   "mimetype": "text/x-python",
   "name": "python",
   "nbconvert_exporter": "python",
   "pygments_lexer": "ipython3",
   "version": "3.7.9"
  }
 },
 "nbformat": 4,
 "nbformat_minor": 4
}
