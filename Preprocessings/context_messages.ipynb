{
 "cells": [
  {
   "cell_type": "code",
   "execution_count": null,
   "metadata": {},
   "outputs": [],
   "source": [
    "import simpletransformers\n",
    "from simpletransformers.classification import ClassificationModel, ClassificationArgs\n",
    "import pandas as pd\n",
    "import logging\n",
    "import wandb\n",
    "from sklearn.metrics import accuracy_score"
   ]
  },
  {
   "cell_type": "markdown",
   "metadata": {},
   "source": [
    "## merge messages"
   ]
  },
  {
   "cell_type": "code",
   "execution_count": null,
   "metadata": {},
   "outputs": [],
   "source": [
    "df = pd.read_csv('aug_df.csv')"
   ]
  },
  {
   "cell_type": "code",
   "execution_count": null,
   "metadata": {},
   "outputs": [],
   "source": [
    "df = df.sort_values(['conversation_id', 'message_id'])"
   ]
  },
  {
   "cell_type": "code",
   "execution_count": null,
   "metadata": {},
   "outputs": [],
   "source": [
    "df = df.drop(df[df['conversation_id'] == 'SM2a210417aa6d1bf15995611740616f7b'].index)"
   ]
  },
  {
   "cell_type": "code",
   "execution_count": null,
   "metadata": {},
   "outputs": [],
   "source": [
    "df = df.dropna()"
   ]
  },
  {
   "cell_type": "code",
   "execution_count": null,
   "metadata": {},
   "outputs": [],
   "source": [
    "df['up'] = df['encoded_message'].shift(-1, fill_value = '')\n",
    "df['down'] =  df['encoded_message'].shift(1, fill_value = '')\n",
    "df['3_messages'] = df.down + ' ' + df.encoded_message + ' ' + df.up"
   ]
  },
  {
   "cell_type": "code",
   "execution_count": null,
   "metadata": {},
   "outputs": [],
   "source": [
    "df['conversation_id'] = df['conversation_id'].astype('float64')\n",
    "df['message_id'] = df['message_id'].astype('float64')"
   ]
  },
  {
   "cell_type": "markdown",
   "metadata": {},
   "source": [
    "### merge: prior + current + next"
   ]
  },
  {
   "cell_type": "code",
   "execution_count": null,
   "metadata": {},
   "outputs": [],
   "source": [
    "conv_list = df['conversation_id'].unique()\n",
    "for i in conv_list:\n",
    "    conv = df[df.conversation_id == i]\n",
    "    first = min(conv.message_id)\n",
    "    last = max(conv.message_id)\n",
    "    \n",
    "    ind_1 = df[df['message_id'] == first].index[0]\n",
    "    df.loc[ind_1, '3_messages'] = df['encoded_message'][ind_1]+ ' ' + df['up'][ind_1]\n",
    "\n",
    "    ind_last = df[df['message_id'] == last].index[0]\n",
    "    df.loc[ind_last, '3_messages'] = df['down'][ind_last] + ' ' + df['encoded_message'][ind_last]\n"
   ]
  },
  {
   "cell_type": "markdown",
   "metadata": {},
   "source": [
    "# prior + prior + current"
   ]
  },
  {
   "cell_type": "code",
   "execution_count": null,
   "metadata": {},
   "outputs": [],
   "source": [
    "# df = df.dropna()"
   ]
  },
  {
   "cell_type": "code",
   "execution_count": null,
   "metadata": {},
   "outputs": [],
   "source": [
    "df['down_down'] =  df['encoded_message'].shift(2, fill_value = '')"
   ]
  },
  {
   "cell_type": "code",
   "execution_count": null,
   "metadata": {},
   "outputs": [],
   "source": [
    "df['2priors'] = df.down_down + ' ' + df.down + ' ' + df.encoded_message"
   ]
  },
  {
   "cell_type": "code",
   "execution_count": null,
   "metadata": {},
   "outputs": [],
   "source": [
    "conv_list = df['conversation_id'].unique()\n",
    "for i in conv_list:\n",
    "    conv = df[df.conversation_id == i]\n",
    "    first = min(conv.message_id)\n",
    "    second = conv.nsmallest(2, 'message_id')[1:2].message_id.values[0]\n",
    "    \n",
    "    ind_1 = df[df['message_id'] == first].index[0]\n",
    "    df.loc[ind_1, '2priors'] = df['encoded_message'][ind_1]\n",
    "\n",
    "    ind_2 = df[df['message_id'] == second].index[0]\n",
    "    df.loc[ind_2, '2priors'] = df['down'][ind_2] + ' ' + df['encoded_message'][ind_2]"
   ]
  },
  {
   "cell_type": "markdown",
   "metadata": {},
   "source": [
    "# prior + current "
   ]
  },
  {
   "cell_type": "code",
   "execution_count": null,
   "metadata": {},
   "outputs": [],
   "source": [
    "df['1prior'] = df.down + ' ' + df.encoded_message"
   ]
  },
  {
   "cell_type": "code",
   "execution_count": null,
   "metadata": {},
   "outputs": [],
   "source": [
    "conv_list = df['conversation_id'].unique()\n",
    "for i in conv_list:\n",
    "    conv = df[df.conversation_id == i]\n",
    "    first = min(conv.message_id)\n",
    "    \n",
    "    ind_1 = df[df['message_id'] == first].index[0]\n",
    "    df.loc[ind_1, '1prior'] = df['encoded_message'][ind_1]"
   ]
  },
  {
   "cell_type": "code",
   "execution_count": null,
   "metadata": {},
   "outputs": [],
   "source": [
    "df.to_csv('context_messages_labels_1000_1234.csv')"
   ]
  }
 ],
 "metadata": {
  "kernelspec": {
   "display_name": "Python 3",
   "language": "python",
   "name": "python3"
  },
  "language_info": {
   "codemirror_mode": {
    "name": "ipython",
    "version": 3
   },
   "file_extension": ".py",
   "mimetype": "text/x-python",
   "name": "python",
   "nbconvert_exporter": "python",
   "pygments_lexer": "ipython3",
   "version": "3.7.9"
  }
 },
 "nbformat": 4,
 "nbformat_minor": 4
}
