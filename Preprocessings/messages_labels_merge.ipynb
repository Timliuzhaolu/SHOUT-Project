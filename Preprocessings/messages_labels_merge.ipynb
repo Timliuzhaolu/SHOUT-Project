{
 "cells": [
  {
   "cell_type": "code",
   "execution_count": null,
   "metadata": {},
   "outputs": [],
   "source": [
    "import pandas as pd\n",
    "import numpy as np"
   ]
  },
  {
   "cell_type": "code",
   "execution_count": null,
   "metadata": {},
   "outputs": [],
   "source": [
    "df1 = pd.read_csv('labels_1101_1234.csv')\n",
    "df1 = df1.loc[:, ~df1.columns.str.contains('^Unnamed')]\n",
    "df2 = pd.read_csv('labels_first100.csv')\n",
    "df2 = df2.loc[:, ~df2.columns.str.contains('^Unnamed')]"
   ]
  },
  {
   "cell_type": "code",
   "execution_count": null,
   "metadata": {},
   "outputs": [],
   "source": [
    "labels_1000_1234 = pd.concat([df1, df2], ignore_index=True)"
   ]
  },
  {
   "cell_type": "code",
   "execution_count": null,
   "metadata": {},
   "outputs": [],
   "source": [
    "labels_1000_1234 = labels_1000_1234.rename(columns={'second_ behaviour': 'second_behaviour', 'third_ behaviour': 'third_behaviour'})"
   ]
  },
  {
   "cell_type": "code",
   "execution_count": null,
   "metadata": {},
   "outputs": [],
   "source": [
    "labels_1000_1234 = labels_1000_1234.dropna()\n",
    "\n",
    "labels_1000_1234['convo_id'] = labels_1000_1234['convo_id'].astype('int64')\n",
    "labels_1000_1234['convo_score'] = labels_1000_1234['convo_score'].astype('int64')\n",
    "labels_1000_1234['actor_id'] = labels_1000_1234['actor_id'].astype('int64')\n",
    "labels_1000_1234['message_id'] = labels_1000_1234['message_id'].astype('int64')\n",
    "labels_1000_1234['convo_stage'] = labels_1000_1234['convo_stage'].astype('int64')\n",
    "labels_1000_1234['first_behaviour'] = labels_1000_1234['first_behaviour'].astype('int64')\n",
    "labels_1000_1234['second_behaviour'] = labels_1000_1234['second_behaviour'].astype('int64')\n",
    "labels_1000_1234['third_behaviour'] = labels_1000_1234['third_behaviour'].astype('int64')"
   ]
  },
  {
   "cell_type": "code",
   "execution_count": null,
   "metadata": {},
   "outputs": [],
   "source": [
    "messages = pd.read_pickle('df2.pickle')\n",
    "lower_bound = messages['conversation_id']>=1000\n",
    "upper_bound = messages['conversation_id']<=1234\n",
    "messages_1000_1234 = messages[lower_bound & upper_bound]"
   ]
  },
  {
   "cell_type": "code",
   "execution_count": null,
   "metadata": {},
   "outputs": [],
   "source": [
    "messages_1000_1234 = messages_1000_1234.rename(columns={'id': 'message_id'})\n",
    "labels_1000_1234 = labels_1000_1234.rename(columns = {'convo_id': 'conversation_id'})"
   ]
  },
  {
   "cell_type": "code",
   "execution_count": null,
   "metadata": {},
   "outputs": [],
   "source": [
    "messages_labels_1000_1234 = pd.merge(messages_1000_1234, labels_1000_1234, on = 'message_id', how='outer')"
   ]
  },
  {
   "cell_type": "code",
   "execution_count": null,
   "metadata": {},
   "outputs": [],
   "source": [
    "messages_labels_1000_1234 = messages_labels_1000_1234.dropna()"
   ]
  },
  {
   "cell_type": "code",
   "execution_count": null,
   "metadata": {},
   "outputs": [],
   "source": [
    "messages_labels_1000_1234 = messages_labels_1000_1234.rename(columns={'conversation_id_x': 'conversation_id', \n",
    "                                                                     'actor_id_x': 'actor_id'})\n",
    "messages_labels_1000_1234 = messages_labels_1000_1234.drop(columns=['conversation_id_y', 'actor_id_y'])"
   ]
  },
  {
   "cell_type": "code",
   "execution_count": null,
   "metadata": {},
   "outputs": [],
   "source": [
    "messages_labels_1000_1234['encoded_message'] = \"[\" + messages_labels_1000_1234.interaction + \"]\" + ' ' + messages_labels_1000_1234.message"
   ]
  },
  {
   "cell_type": "code",
   "execution_count": null,
   "metadata": {},
   "outputs": [],
   "source": [
    "messages_labels_1000_1234.to_csv('messages_labels_1000_1234.csv')"
   ]
  }
 ],
 "metadata": {
  "kernelspec": {
   "display_name": "Python 3",
   "language": "python",
   "name": "python3"
  },
  "language_info": {
   "codemirror_mode": {
    "name": "ipython",
    "version": 3
   },
   "file_extension": ".py",
   "mimetype": "text/x-python",
   "name": "python",
   "nbconvert_exporter": "python",
   "pygments_lexer": "ipython3",
   "version": "3.7.9"
  }
 },
 "nbformat": 4,
 "nbformat_minor": 4
}
